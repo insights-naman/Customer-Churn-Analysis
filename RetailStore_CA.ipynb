{
 "cells": [
  {
   "cell_type": "code",
   "execution_count": 1,
   "id": "b7ae3eaa-9844-4dc5-837d-36f5b9eb021c",
   "metadata": {},
   "outputs": [],
   "source": [
    "import pandas as pd\n",
    "import numpy as np\n",
    "import matplotlib.pyplot as plt\n",
    "import seaborn as sns"
   ]
  },
  {
   "cell_type": "code",
   "execution_count": 6,
   "id": "5ea10bd2-e7cc-4e3f-93a8-8ac188adeb5d",
   "metadata": {},
   "outputs": [],
   "source": [
    "df= pd.read_csv(r\"C:\\Users\\Dell\\Desktop\\online_retail_customer_churn.csv\")"
   ]
  },
  {
   "cell_type": "code",
   "execution_count": 7,
   "id": "07f37fb7-b2fa-4ef6-b1ed-7354c58ed4d3",
   "metadata": {},
   "outputs": [
    {
     "data": {
      "text/html": [
       "<div>\n",
       "<style scoped>\n",
       "    .dataframe tbody tr th:only-of-type {\n",
       "        vertical-align: middle;\n",
       "    }\n",
       "\n",
       "    .dataframe tbody tr th {\n",
       "        vertical-align: top;\n",
       "    }\n",
       "\n",
       "    .dataframe thead th {\n",
       "        text-align: right;\n",
       "    }\n",
       "</style>\n",
       "<table border=\"1\" class=\"dataframe\">\n",
       "  <thead>\n",
       "    <tr style=\"text-align: right;\">\n",
       "      <th></th>\n",
       "      <th>Customer_ID</th>\n",
       "      <th>Age</th>\n",
       "      <th>Gender</th>\n",
       "      <th>Annual_Income</th>\n",
       "      <th>Total_Spend</th>\n",
       "      <th>Years_as_Customer</th>\n",
       "      <th>Num_of_Purchases</th>\n",
       "      <th>Average_Transaction_Amount</th>\n",
       "      <th>Num_of_Returns</th>\n",
       "      <th>Num_of_Support_Contacts</th>\n",
       "      <th>Satisfaction_Score</th>\n",
       "      <th>Last_Purchase_Days_Ago</th>\n",
       "      <th>Email_Opt_In</th>\n",
       "      <th>Promotion_Response</th>\n",
       "      <th>Target_Churn</th>\n",
       "    </tr>\n",
       "  </thead>\n",
       "  <tbody>\n",
       "    <tr>\n",
       "      <th>0</th>\n",
       "      <td>1</td>\n",
       "      <td>62</td>\n",
       "      <td>Other</td>\n",
       "      <td>45.15</td>\n",
       "      <td>5892.58</td>\n",
       "      <td>5</td>\n",
       "      <td>22</td>\n",
       "      <td>453.80</td>\n",
       "      <td>2</td>\n",
       "      <td>0</td>\n",
       "      <td>3</td>\n",
       "      <td>129</td>\n",
       "      <td>True</td>\n",
       "      <td>Responded</td>\n",
       "      <td>True</td>\n",
       "    </tr>\n",
       "    <tr>\n",
       "      <th>1</th>\n",
       "      <td>2</td>\n",
       "      <td>65</td>\n",
       "      <td>Male</td>\n",
       "      <td>79.51</td>\n",
       "      <td>9025.47</td>\n",
       "      <td>13</td>\n",
       "      <td>77</td>\n",
       "      <td>22.90</td>\n",
       "      <td>2</td>\n",
       "      <td>2</td>\n",
       "      <td>3</td>\n",
       "      <td>227</td>\n",
       "      <td>False</td>\n",
       "      <td>Responded</td>\n",
       "      <td>False</td>\n",
       "    </tr>\n",
       "    <tr>\n",
       "      <th>2</th>\n",
       "      <td>3</td>\n",
       "      <td>18</td>\n",
       "      <td>Male</td>\n",
       "      <td>29.19</td>\n",
       "      <td>618.83</td>\n",
       "      <td>13</td>\n",
       "      <td>71</td>\n",
       "      <td>50.53</td>\n",
       "      <td>5</td>\n",
       "      <td>2</td>\n",
       "      <td>2</td>\n",
       "      <td>283</td>\n",
       "      <td>False</td>\n",
       "      <td>Responded</td>\n",
       "      <td>True</td>\n",
       "    </tr>\n",
       "    <tr>\n",
       "      <th>3</th>\n",
       "      <td>4</td>\n",
       "      <td>21</td>\n",
       "      <td>Other</td>\n",
       "      <td>79.63</td>\n",
       "      <td>9110.30</td>\n",
       "      <td>3</td>\n",
       "      <td>33</td>\n",
       "      <td>411.83</td>\n",
       "      <td>5</td>\n",
       "      <td>3</td>\n",
       "      <td>5</td>\n",
       "      <td>226</td>\n",
       "      <td>True</td>\n",
       "      <td>Ignored</td>\n",
       "      <td>True</td>\n",
       "    </tr>\n",
       "    <tr>\n",
       "      <th>4</th>\n",
       "      <td>5</td>\n",
       "      <td>21</td>\n",
       "      <td>Other</td>\n",
       "      <td>77.66</td>\n",
       "      <td>5390.88</td>\n",
       "      <td>15</td>\n",
       "      <td>43</td>\n",
       "      <td>101.19</td>\n",
       "      <td>3</td>\n",
       "      <td>0</td>\n",
       "      <td>5</td>\n",
       "      <td>242</td>\n",
       "      <td>False</td>\n",
       "      <td>Unsubscribed</td>\n",
       "      <td>False</td>\n",
       "    </tr>\n",
       "    <tr>\n",
       "      <th>...</th>\n",
       "      <td>...</td>\n",
       "      <td>...</td>\n",
       "      <td>...</td>\n",
       "      <td>...</td>\n",
       "      <td>...</td>\n",
       "      <td>...</td>\n",
       "      <td>...</td>\n",
       "      <td>...</td>\n",
       "      <td>...</td>\n",
       "      <td>...</td>\n",
       "      <td>...</td>\n",
       "      <td>...</td>\n",
       "      <td>...</td>\n",
       "      <td>...</td>\n",
       "      <td>...</td>\n",
       "    </tr>\n",
       "    <tr>\n",
       "      <th>995</th>\n",
       "      <td>996</td>\n",
       "      <td>54</td>\n",
       "      <td>Male</td>\n",
       "      <td>143.72</td>\n",
       "      <td>1089.09</td>\n",
       "      <td>2</td>\n",
       "      <td>29</td>\n",
       "      <td>77.75</td>\n",
       "      <td>0</td>\n",
       "      <td>3</td>\n",
       "      <td>2</td>\n",
       "      <td>88</td>\n",
       "      <td>True</td>\n",
       "      <td>Ignored</td>\n",
       "      <td>False</td>\n",
       "    </tr>\n",
       "    <tr>\n",
       "      <th>996</th>\n",
       "      <td>997</td>\n",
       "      <td>19</td>\n",
       "      <td>Male</td>\n",
       "      <td>164.19</td>\n",
       "      <td>3700.24</td>\n",
       "      <td>9</td>\n",
       "      <td>90</td>\n",
       "      <td>34.45</td>\n",
       "      <td>6</td>\n",
       "      <td>4</td>\n",
       "      <td>4</td>\n",
       "      <td>352</td>\n",
       "      <td>False</td>\n",
       "      <td>Responded</td>\n",
       "      <td>True</td>\n",
       "    </tr>\n",
       "    <tr>\n",
       "      <th>997</th>\n",
       "      <td>998</td>\n",
       "      <td>47</td>\n",
       "      <td>Female</td>\n",
       "      <td>113.31</td>\n",
       "      <td>705.85</td>\n",
       "      <td>17</td>\n",
       "      <td>69</td>\n",
       "      <td>187.37</td>\n",
       "      <td>7</td>\n",
       "      <td>3</td>\n",
       "      <td>1</td>\n",
       "      <td>172</td>\n",
       "      <td>True</td>\n",
       "      <td>Unsubscribed</td>\n",
       "      <td>False</td>\n",
       "    </tr>\n",
       "    <tr>\n",
       "      <th>998</th>\n",
       "      <td>999</td>\n",
       "      <td>23</td>\n",
       "      <td>Male</td>\n",
       "      <td>72.98</td>\n",
       "      <td>3891.60</td>\n",
       "      <td>7</td>\n",
       "      <td>31</td>\n",
       "      <td>483.80</td>\n",
       "      <td>1</td>\n",
       "      <td>2</td>\n",
       "      <td>5</td>\n",
       "      <td>55</td>\n",
       "      <td>False</td>\n",
       "      <td>Responded</td>\n",
       "      <td>True</td>\n",
       "    </tr>\n",
       "    <tr>\n",
       "      <th>999</th>\n",
       "      <td>1000</td>\n",
       "      <td>34</td>\n",
       "      <td>Other</td>\n",
       "      <td>134.86</td>\n",
       "      <td>3956.71</td>\n",
       "      <td>15</td>\n",
       "      <td>48</td>\n",
       "      <td>420.91</td>\n",
       "      <td>6</td>\n",
       "      <td>0</td>\n",
       "      <td>1</td>\n",
       "      <td>269</td>\n",
       "      <td>True</td>\n",
       "      <td>Ignored</td>\n",
       "      <td>True</td>\n",
       "    </tr>\n",
       "  </tbody>\n",
       "</table>\n",
       "<p>1000 rows × 15 columns</p>\n",
       "</div>"
      ],
      "text/plain": [
       "     Customer_ID  Age  Gender  Annual_Income  Total_Spend  Years_as_Customer  \\\n",
       "0              1   62   Other          45.15      5892.58                  5   \n",
       "1              2   65    Male          79.51      9025.47                 13   \n",
       "2              3   18    Male          29.19       618.83                 13   \n",
       "3              4   21   Other          79.63      9110.30                  3   \n",
       "4              5   21   Other          77.66      5390.88                 15   \n",
       "..           ...  ...     ...            ...          ...                ...   \n",
       "995          996   54    Male         143.72      1089.09                  2   \n",
       "996          997   19    Male         164.19      3700.24                  9   \n",
       "997          998   47  Female         113.31       705.85                 17   \n",
       "998          999   23    Male          72.98      3891.60                  7   \n",
       "999         1000   34   Other         134.86      3956.71                 15   \n",
       "\n",
       "     Num_of_Purchases  Average_Transaction_Amount  Num_of_Returns  \\\n",
       "0                  22                      453.80               2   \n",
       "1                  77                       22.90               2   \n",
       "2                  71                       50.53               5   \n",
       "3                  33                      411.83               5   \n",
       "4                  43                      101.19               3   \n",
       "..                ...                         ...             ...   \n",
       "995                29                       77.75               0   \n",
       "996                90                       34.45               6   \n",
       "997                69                      187.37               7   \n",
       "998                31                      483.80               1   \n",
       "999                48                      420.91               6   \n",
       "\n",
       "     Num_of_Support_Contacts  Satisfaction_Score  Last_Purchase_Days_Ago  \\\n",
       "0                          0                   3                     129   \n",
       "1                          2                   3                     227   \n",
       "2                          2                   2                     283   \n",
       "3                          3                   5                     226   \n",
       "4                          0                   5                     242   \n",
       "..                       ...                 ...                     ...   \n",
       "995                        3                   2                      88   \n",
       "996                        4                   4                     352   \n",
       "997                        3                   1                     172   \n",
       "998                        2                   5                      55   \n",
       "999                        0                   1                     269   \n",
       "\n",
       "     Email_Opt_In Promotion_Response  Target_Churn  \n",
       "0            True          Responded          True  \n",
       "1           False          Responded         False  \n",
       "2           False          Responded          True  \n",
       "3            True            Ignored          True  \n",
       "4           False       Unsubscribed         False  \n",
       "..            ...                ...           ...  \n",
       "995          True            Ignored         False  \n",
       "996         False          Responded          True  \n",
       "997          True       Unsubscribed         False  \n",
       "998         False          Responded          True  \n",
       "999          True            Ignored          True  \n",
       "\n",
       "[1000 rows x 15 columns]"
      ]
     },
     "execution_count": 7,
     "metadata": {},
     "output_type": "execute_result"
    }
   ],
   "source": [
    "df"
   ]
  },
  {
   "cell_type": "code",
   "execution_count": 8,
   "id": "3d1867d4-2245-44bf-8d86-841058f801d1",
   "metadata": {},
   "outputs": [
    {
     "name": "stdout",
     "output_type": "stream",
     "text": [
      "<class 'pandas.core.frame.DataFrame'>\n",
      "RangeIndex: 1000 entries, 0 to 999\n",
      "Data columns (total 15 columns):\n",
      " #   Column                      Non-Null Count  Dtype  \n",
      "---  ------                      --------------  -----  \n",
      " 0   Customer_ID                 1000 non-null   int64  \n",
      " 1   Age                         1000 non-null   int64  \n",
      " 2   Gender                      1000 non-null   object \n",
      " 3   Annual_Income               1000 non-null   float64\n",
      " 4   Total_Spend                 1000 non-null   float64\n",
      " 5   Years_as_Customer           1000 non-null   int64  \n",
      " 6   Num_of_Purchases            1000 non-null   int64  \n",
      " 7   Average_Transaction_Amount  1000 non-null   float64\n",
      " 8   Num_of_Returns              1000 non-null   int64  \n",
      " 9   Num_of_Support_Contacts     1000 non-null   int64  \n",
      " 10  Satisfaction_Score          1000 non-null   int64  \n",
      " 11  Last_Purchase_Days_Ago      1000 non-null   int64  \n",
      " 12  Email_Opt_In                1000 non-null   bool   \n",
      " 13  Promotion_Response          1000 non-null   object \n",
      " 14  Target_Churn                1000 non-null   bool   \n",
      "dtypes: bool(2), float64(3), int64(8), object(2)\n",
      "memory usage: 103.6+ KB\n"
     ]
    }
   ],
   "source": [
    "df.info()"
   ]
  },
  {
   "cell_type": "code",
   "execution_count": 10,
   "id": "6d232969-e1d7-4d5b-bb8f-9d2ef7e42023",
   "metadata": {},
   "outputs": [
    {
     "data": {
      "text/plain": [
       "Customer_ID                   0\n",
       "Age                           0\n",
       "Gender                        0\n",
       "Annual_Income                 0\n",
       "Total_Spend                   0\n",
       "Years_as_Customer             0\n",
       "Num_of_Purchases              0\n",
       "Average_Transaction_Amount    0\n",
       "Num_of_Returns                0\n",
       "Num_of_Support_Contacts       0\n",
       "Satisfaction_Score            0\n",
       "Last_Purchase_Days_Ago        0\n",
       "Email_Opt_In                  0\n",
       "Promotion_Response            0\n",
       "Target_Churn                  0\n",
       "dtype: int64"
      ]
     },
     "execution_count": 10,
     "metadata": {},
     "output_type": "execute_result"
    }
   ],
   "source": [
    "df.isnull().sum()"
   ]
  },
  {
   "cell_type": "code",
   "execution_count": 11,
   "id": "ba688e8e-e452-4065-82ab-040961484841",
   "metadata": {},
   "outputs": [
    {
     "data": {
      "text/html": [
       "<div>\n",
       "<style scoped>\n",
       "    .dataframe tbody tr th:only-of-type {\n",
       "        vertical-align: middle;\n",
       "    }\n",
       "\n",
       "    .dataframe tbody tr th {\n",
       "        vertical-align: top;\n",
       "    }\n",
       "\n",
       "    .dataframe thead th {\n",
       "        text-align: right;\n",
       "    }\n",
       "</style>\n",
       "<table border=\"1\" class=\"dataframe\">\n",
       "  <thead>\n",
       "    <tr style=\"text-align: right;\">\n",
       "      <th></th>\n",
       "      <th>Customer_ID</th>\n",
       "      <th>Age</th>\n",
       "      <th>Annual_Income</th>\n",
       "      <th>Total_Spend</th>\n",
       "      <th>Years_as_Customer</th>\n",
       "      <th>Num_of_Purchases</th>\n",
       "      <th>Average_Transaction_Amount</th>\n",
       "      <th>Num_of_Returns</th>\n",
       "      <th>Num_of_Support_Contacts</th>\n",
       "      <th>Satisfaction_Score</th>\n",
       "      <th>Last_Purchase_Days_Ago</th>\n",
       "    </tr>\n",
       "  </thead>\n",
       "  <tbody>\n",
       "    <tr>\n",
       "      <th>count</th>\n",
       "      <td>1000.000000</td>\n",
       "      <td>1000.000000</td>\n",
       "      <td>1000.000000</td>\n",
       "      <td>1000.00000</td>\n",
       "      <td>1000.000000</td>\n",
       "      <td>1000.000000</td>\n",
       "      <td>1000.000000</td>\n",
       "      <td>1000.000000</td>\n",
       "      <td>1000.000000</td>\n",
       "      <td>1000.000000</td>\n",
       "      <td>1000.000000</td>\n",
       "    </tr>\n",
       "    <tr>\n",
       "      <th>mean</th>\n",
       "      <td>500.500000</td>\n",
       "      <td>43.267000</td>\n",
       "      <td>111.962960</td>\n",
       "      <td>5080.79265</td>\n",
       "      <td>9.727000</td>\n",
       "      <td>49.456000</td>\n",
       "      <td>266.876530</td>\n",
       "      <td>4.612000</td>\n",
       "      <td>1.934000</td>\n",
       "      <td>2.974000</td>\n",
       "      <td>182.890000</td>\n",
       "    </tr>\n",
       "    <tr>\n",
       "      <th>std</th>\n",
       "      <td>288.819436</td>\n",
       "      <td>15.242311</td>\n",
       "      <td>52.844111</td>\n",
       "      <td>2862.12335</td>\n",
       "      <td>5.536346</td>\n",
       "      <td>28.543595</td>\n",
       "      <td>145.873445</td>\n",
       "      <td>2.896869</td>\n",
       "      <td>1.402716</td>\n",
       "      <td>1.391855</td>\n",
       "      <td>104.391319</td>\n",
       "    </tr>\n",
       "    <tr>\n",
       "      <th>min</th>\n",
       "      <td>1.000000</td>\n",
       "      <td>18.000000</td>\n",
       "      <td>20.010000</td>\n",
       "      <td>108.94000</td>\n",
       "      <td>1.000000</td>\n",
       "      <td>1.000000</td>\n",
       "      <td>10.460000</td>\n",
       "      <td>0.000000</td>\n",
       "      <td>0.000000</td>\n",
       "      <td>1.000000</td>\n",
       "      <td>1.000000</td>\n",
       "    </tr>\n",
       "    <tr>\n",
       "      <th>25%</th>\n",
       "      <td>250.750000</td>\n",
       "      <td>30.000000</td>\n",
       "      <td>67.800000</td>\n",
       "      <td>2678.67500</td>\n",
       "      <td>5.000000</td>\n",
       "      <td>25.000000</td>\n",
       "      <td>139.682500</td>\n",
       "      <td>2.000000</td>\n",
       "      <td>1.000000</td>\n",
       "      <td>2.000000</td>\n",
       "      <td>93.000000</td>\n",
       "    </tr>\n",
       "    <tr>\n",
       "      <th>50%</th>\n",
       "      <td>500.500000</td>\n",
       "      <td>43.000000</td>\n",
       "      <td>114.140000</td>\n",
       "      <td>4986.19500</td>\n",
       "      <td>9.000000</td>\n",
       "      <td>49.000000</td>\n",
       "      <td>270.100000</td>\n",
       "      <td>5.000000</td>\n",
       "      <td>2.000000</td>\n",
       "      <td>3.000000</td>\n",
       "      <td>180.500000</td>\n",
       "    </tr>\n",
       "    <tr>\n",
       "      <th>75%</th>\n",
       "      <td>750.250000</td>\n",
       "      <td>56.000000</td>\n",
       "      <td>158.452500</td>\n",
       "      <td>7606.47000</td>\n",
       "      <td>14.000000</td>\n",
       "      <td>74.000000</td>\n",
       "      <td>401.602500</td>\n",
       "      <td>7.000000</td>\n",
       "      <td>3.000000</td>\n",
       "      <td>4.000000</td>\n",
       "      <td>274.000000</td>\n",
       "    </tr>\n",
       "    <tr>\n",
       "      <th>max</th>\n",
       "      <td>1000.000000</td>\n",
       "      <td>69.000000</td>\n",
       "      <td>199.730000</td>\n",
       "      <td>9999.64000</td>\n",
       "      <td>19.000000</td>\n",
       "      <td>99.000000</td>\n",
       "      <td>499.570000</td>\n",
       "      <td>9.000000</td>\n",
       "      <td>4.000000</td>\n",
       "      <td>5.000000</td>\n",
       "      <td>364.000000</td>\n",
       "    </tr>\n",
       "  </tbody>\n",
       "</table>\n",
       "</div>"
      ],
      "text/plain": [
       "       Customer_ID          Age  Annual_Income  Total_Spend  \\\n",
       "count  1000.000000  1000.000000    1000.000000   1000.00000   \n",
       "mean    500.500000    43.267000     111.962960   5080.79265   \n",
       "std     288.819436    15.242311      52.844111   2862.12335   \n",
       "min       1.000000    18.000000      20.010000    108.94000   \n",
       "25%     250.750000    30.000000      67.800000   2678.67500   \n",
       "50%     500.500000    43.000000     114.140000   4986.19500   \n",
       "75%     750.250000    56.000000     158.452500   7606.47000   \n",
       "max    1000.000000    69.000000     199.730000   9999.64000   \n",
       "\n",
       "       Years_as_Customer  Num_of_Purchases  Average_Transaction_Amount  \\\n",
       "count        1000.000000       1000.000000                 1000.000000   \n",
       "mean            9.727000         49.456000                  266.876530   \n",
       "std             5.536346         28.543595                  145.873445   \n",
       "min             1.000000          1.000000                   10.460000   \n",
       "25%             5.000000         25.000000                  139.682500   \n",
       "50%             9.000000         49.000000                  270.100000   \n",
       "75%            14.000000         74.000000                  401.602500   \n",
       "max            19.000000         99.000000                  499.570000   \n",
       "\n",
       "       Num_of_Returns  Num_of_Support_Contacts  Satisfaction_Score  \\\n",
       "count     1000.000000              1000.000000         1000.000000   \n",
       "mean         4.612000                 1.934000            2.974000   \n",
       "std          2.896869                 1.402716            1.391855   \n",
       "min          0.000000                 0.000000            1.000000   \n",
       "25%          2.000000                 1.000000            2.000000   \n",
       "50%          5.000000                 2.000000            3.000000   \n",
       "75%          7.000000                 3.000000            4.000000   \n",
       "max          9.000000                 4.000000            5.000000   \n",
       "\n",
       "       Last_Purchase_Days_Ago  \n",
       "count             1000.000000  \n",
       "mean               182.890000  \n",
       "std                104.391319  \n",
       "min                  1.000000  \n",
       "25%                 93.000000  \n",
       "50%                180.500000  \n",
       "75%                274.000000  \n",
       "max                364.000000  "
      ]
     },
     "execution_count": 11,
     "metadata": {},
     "output_type": "execute_result"
    }
   ],
   "source": [
    "df.describe()"
   ]
  },
  {
   "cell_type": "code",
   "execution_count": 16,
   "id": "e0b2df6b-68e5-498e-988f-bcf900dd61ba",
   "metadata": {},
   "outputs": [
    {
     "data": {
      "text/plain": [
       "np.int64(0)"
      ]
     },
     "execution_count": 16,
     "metadata": {},
     "output_type": "execute_result"
    }
   ],
   "source": [
    "df[\"Customer_ID\"].duplicated().sum()"
   ]
  },
  {
   "cell_type": "code",
   "execution_count": 60,
   "id": "1f68d716-44df-42b4-823d-e26d87685f8c",
   "metadata": {},
   "outputs": [
    {
     "data": {
      "image/png": "[encoded data removed]",
      "text/plain": [
       "<Figure size 640x480 with 1 Axes>"
      ]
     },
     "metadata": {},
     "output_type": "display_data"
    }
   ],
   "source": [
    "ax=sns.countplot(x ='Target_Churn',data=df)\n",
    "\n",
    "ax.bar_label(ax.containers[0])\n",
    "plt.title(\"Count of Customers by Churn\")\n",
    "plt.show()"
   ]
  },
  {
   "cell_type": "code",
   "execution_count": 44,
   "id": "eee722a3-e8a8-45c0-9829-4150d3c21f84",
   "metadata": {},
   "outputs": [
    {
     "data": {
      "text/html": [
       "<div>\n",
       "<style scoped>\n",
       "    .dataframe tbody tr th:only-of-type {\n",
       "        vertical-align: middle;\n",
       "    }\n",
       "\n",
       "    .dataframe tbody tr th {\n",
       "        vertical-align: top;\n",
       "    }\n",
       "\n",
       "    .dataframe thead th {\n",
       "        text-align: right;\n",
       "    }\n",
       "</style>\n",
       "<table border=\"1\" class=\"dataframe\">\n",
       "  <thead>\n",
       "    <tr style=\"text-align: right;\">\n",
       "      <th></th>\n",
       "      <th>Target_Churn</th>\n",
       "    </tr>\n",
       "    <tr>\n",
       "      <th>Target_Churn</th>\n",
       "      <th></th>\n",
       "    </tr>\n",
       "  </thead>\n",
       "  <tbody>\n",
       "    <tr>\n",
       "      <th>False</th>\n",
       "      <td>474</td>\n",
       "    </tr>\n",
       "    <tr>\n",
       "      <th>True</th>\n",
       "      <td>526</td>\n",
       "    </tr>\n",
       "  </tbody>\n",
       "</table>\n",
       "</div>"
      ],
      "text/plain": [
       "              Target_Churn\n",
       "Target_Churn              \n",
       "False                  474\n",
       "True                   526"
      ]
     },
     "execution_count": 44,
     "metadata": {},
     "output_type": "execute_result"
    }
   ],
   "source": [
    "group=df.groupby(\"Target_Churn\").agg({'Target_Churn' : \"count\"})\n",
    "group"
   ]
  },
  {
   "cell_type": "code",
   "execution_count": 63,
   "id": "92d4add2-0e42-47d9-b050-a8c2fc439a4f",
   "metadata": {},
   "outputs": [
    {
     "data": {
      "image/png": "[encoded data removed]",
      "text/plain": [
       "<Figure size 200x200 with 1 Axes>"
      ]
     },
     "metadata": {},
     "output_type": "display_data"
    }
   ],
   "source": [
    "plt.figure(figsize= (2,2))\n",
    "plt.title(\"Percentage of Churned Customer\",fontsize=8)\n",
    "plt.pie(group['Target_Churn'], labels= group.index,autopct= '%1.2f%%' )\n",
    "plt.show()"
   ]
  },
  {
   "cell_type": "markdown",
   "id": "f34e9e33-72d6-43c2-acc7-00ce6664fe47",
   "metadata": {},
   "source": [
    "From the given pie chart, we can conclude that 52.60% of our customers have churned out. \n",
    "Now, Exploring the reason behind it."
   ]
  },
  {
   "cell_type": "code",
   "execution_count": 73,
   "id": "3a7fcb3e-48b3-4021-9a16-ca52b0973951",
   "metadata": {},
   "outputs": [
    {
     "data": {
      "image/png": "[encoded data removed]",
      "text/plain": [
       "<Figure size 300x200 with 1 Axes>"
      ]
     },
     "metadata": {},
     "output_type": "display_data"
    }
   ],
   "source": [
    "plt.figure(figsize= (3,2))\n",
    "plt.title(\"Churning on basis of Gender\", fontsize=9)\n",
    "sns.countplot(x='Gender',data=df,hue=\"Target_Churn\")\n",
    "plt.show()"
   ]
  },
  {
   "cell_type": "markdown",
   "id": "ee462b43-cc7f-43f3-b60b-50d6719981db",
   "metadata": {},
   "source": [
    "The churning of customers is not Gender specific as almost equal churning is observed in all 3 Genders."
   ]
  },
  {
   "cell_type": "code",
   "execution_count": 87,
   "id": "fc57cf62-1d0b-4733-afdc-4639e3bb7860",
   "metadata": {},
   "outputs": [
    {
     "data": {
      "image/png": "[encoded data removed]",
      "text/plain": [
       "<Figure size 500x400 with 1 Axes>"
      ]
     },
     "metadata": {},
     "output_type": "display_data"
    },
    {
     "data": {
      "image/png": "[encoded data removed]",
      "text/plain": [
       "<Figure size 800x400 with 1 Axes>"
      ]
     },
     "metadata": {},
     "output_type": "display_data"
    }
   ],
   "source": [
    "age_bins = range(df['Age'].min(), df['Age'].max() + 10, 10) \n",
    "df['Age_Group'] = pd.cut(df['Age'], bins=age_bins)  # Adding a coloumn of Age groups.\n",
    "\n",
    "plt.figure(figsize=(5,4))\n",
    "plt.title(\"Count of Age Group\")\n",
    "c=sns.countplot(x='Age_Group',data=df)\n",
    "c.bar_label(c.containers[0])\n",
    "plt.show()\n",
    "\n",
    "plt.figure(figsize=(8, 4))\n",
    "sns.countplot(x='Age_Group', data=df, hue='Target_Churn')\n",
    "plt.title(\"Churn by Age Group\", fontsize=12)\n",
    "plt.xlabel(\"Age Interval\")\n",
    "plt.ylabel(\"Number of Customers\")\n",
    "plt.legend(title='Churn',loc=\"best\")\n",
    "plt.show()"
   ]
  },
  {
   "cell_type": "markdown",
   "id": "3919d82d-ee9c-4e03-bfaf-8d3d0260f630",
   "metadata": {},
   "source": [
    "It can be observed that customers of Age group 18-28 years have churned out more followed by people of the age of 58-68."
   ]
  },
  {
   "cell_type": "code",
   "execution_count": 99,
   "id": "5ab996ff-b9cf-44ed-bec8-04e3cc042e34",
   "metadata": {},
   "outputs": [
    {
     "data": {
      "text/plain": [
       "<Axes: xlabel='Years_as_Customer', ylabel='Count'>"
      ]
     },
     "execution_count": 99,
     "metadata": {},
     "output_type": "execute_result"
    },
    {
     "data": {
      "image/png": "[encoded data removed]",
      "text/plain": [
       "<Figure size 700x500 with 1 Axes>"
      ]
     },
     "metadata": {},
     "output_type": "display_data"
    }
   ],
   "source": [
    "plt.figure(figsize=(7,5))\n",
    "sns.histplot(x=\"Years_as_Customer\",data=df,bins=10,hue=\"Target_Churn\")"
   ]
  },
  {
   "cell_type": "markdown",
   "id": "6c2bb36d-edea-43eb-b04b-808817f5549c",
   "metadata": {},
   "source": [
    "People using services over long period term have retained but customers of less than 5 year tenure have churned more."
   ]
  },
  {
   "cell_type": "code",
   "execution_count": 111,
   "id": "255e1a18-ad90-424c-b798-7ed60a465a7b",
   "metadata": {},
   "outputs": [
    {
     "data": {
      "image/png": "[encoded data removed]",
      "text/plain": [
       "<Figure size 1200x600 with 1 Axes>"
      ]
     },
     "metadata": {},
     "output_type": "display_data"
    }
   ],
   "source": [
    "plt.figure(figsize=(12,6))\n",
    "plt.title(\"Churn on the basis of Income\")\n",
    "a=sns.histplot(x=\"Annual_Income\",data=df,bins=10,hue=\"Target_Churn\")\n",
    "a.bar_label(a.containers[0])\n",
    "plt.show()"
   ]
  },
  {
   "cell_type": "markdown",
   "id": "d1484dfa-f9c0-4133-8ad3-b79a6e119152",
   "metadata": {},
   "source": [
    "Customers with low income are more prone to churning which may be due to high pricings."
   ]
  },
  {
   "cell_type": "code",
   "execution_count": 112,
   "id": "5de434a1-a6a1-455d-8ef0-a18bff644c07",
   "metadata": {},
   "outputs": [
    {
     "data": {
      "text/plain": [
       "<Axes: title={'center': 'Churned Customer by Score'}, xlabel='Satisfaction_Score', ylabel='count'>"
      ]
     },
     "execution_count": 112,
     "metadata": {},
     "output_type": "execute_result"
    },
    {
     "data": {
      "image/png": "[encoded data removed]",
      "text/plain": [
       "<Figure size 700x500 with 1 Axes>"
      ]
     },
     "metadata": {},
     "output_type": "display_data"
    }
   ],
   "source": [
    "plt.figure(figsize=(7,5))\n",
    "plt.title(\"Churned Customer by Score\")\n",
    "sns.countplot(x=\"Satisfaction_Score\",data=df,hue=\"Target_Churn\")"
   ]
  },
  {
   "cell_type": "markdown",
   "id": "082863d7-d916-40de-8961-0d3d01fae4bf",
   "metadata": {},
   "source": [
    "The countplot shows that customers with mid to high satisfaction scores (3 and 4) have a higher churn rate, \n",
    "which is counterintuitive as we’d expect lower satisfaction to drive churn. \n",
    "This suggests other factors may be influencing churn beyond just satisfaction of consumers."
   ]
  },
  {
   "cell_type": "code",
   "execution_count": null,
   "id": "211a9816-38a7-4851-8029-66e19ad37aa7",
   "metadata": {},
   "outputs": [],
   "source": []
  }
 ],
 "metadata": {
  "kernelspec": {
   "display_name": "Python 3 (ipykernel)",
   "language": "python",
   "name": "python3"
  },
  "language_info": {
   "codemirror_mode": {
    "name": "ipython",
    "version": 3
   },
   "file_extension": ".py",
   "mimetype": "text/x-python",
   "name": "python",
   "nbconvert_exporter": "python",
   "pygments_lexer": "ipython3",
   "version": "3.13.5"
  }
 },
 "nbformat": 4,
 "nbformat_minor": 5
}
